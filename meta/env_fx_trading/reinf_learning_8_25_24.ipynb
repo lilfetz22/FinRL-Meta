{
 "cells": [
  {
   "cell_type": "code",
   "execution_count": 1,
   "metadata": {},
   "outputs": [],
   "source": [
    "# install necessary packages finta, gym, jupyterlab, matplotlib, mplfinance, numpy, pandas, quantstats, stable_baselines3, torch\n",
    "# %pip install finta gym jupyterlab matplotlib mplfinance numpy pandas quantstats stable_baselines3 torch keras tensorflow gym-anytrading\n"
   ]
  },
  {
   "cell_type": "code",
   "execution_count": 20,
   "metadata": {},
   "outputs": [],
   "source": [
    "import numpy as np\n",
    "import matplotlib.pyplot as plt\n",
    "import pandas as pd\n",
    "from collections import deque\n",
    "import datetime\n",
    "import mplfinance \n",
    "import time\n",
    "import tensorflow as tf\n",
    "from tensorflow import keras\n",
    "from tensorflow.keras import layers\n",
    "from scipy.signal import lfilter\n",
    "\n",
    "import numpy as np\n",
    "import matplotlib.pyplot as plt\n",
    "\n",
    "import gymnasium as gym\n",
    "import gym_anytrading\n",
    "from gym_anytrading.envs import ForexEnv, StocksEnv, Actions, Positions \n",
    "\n",
    "import sys\n",
    "sys.path.append(\"C:/Users/WilliamFetzner/Documents/Trading/\")\n",
    "import fx # personal functions\n",
    "sys.path.append(\"C:/Users/WilliamFetzner/Documents/Trading/FinRL-Meta/\")\n",
    "import importlib\n",
    "from meta.env_fx_trading.env_fx import tgym\n",
    "\n",
    "import finta\n",
    "import polars as pl"
   ]
  },
  {
   "cell_type": "markdown",
   "metadata": {},
   "source": [
    "# Parameters"
   ]
  },
  {
   "cell_type": "code",
   "execution_count": 3,
   "metadata": {},
   "outputs": [],
   "source": [
    "# penalty amount\n",
    "penalty_amount = 0.05"
   ]
  },
  {
   "cell_type": "code",
   "execution_count": 24,
   "metadata": {},
   "outputs": [
    {
     "data": {
      "text/html": [
       "<div><style>\n",
       ".dataframe > thead > tr,\n",
       ".dataframe > tbody > tr {\n",
       "  text-align: right;\n",
       "  white-space: pre-wrap;\n",
       "}\n",
       "</style>\n",
       "<small>shape: (15_264, 8)</small><table border=\"1\" class=\"dataframe\"><thead><tr><th>Open</th><th>High</th><th>Low</th><th>Close</th><th>datetime</th><th>week_number</th><th>weekday</th><th>symbol</th></tr><tr><td>f64</td><td>f64</td><td>f64</td><td>f64</td><td>datetime[μs]</td><td>i8</td><td>i8</td><td>str</td></tr></thead><tbody><tr><td>1.10427</td><td>1.10433</td><td>1.10423</td><td>1.10431</td><td>2024-01-02 00:00:00</td><td>1</td><td>2</td><td>&quot;EURUSD&quot;</td></tr><tr><td>1.1043</td><td>1.10434</td><td>1.1042</td><td>1.1043</td><td>2024-01-02 00:15:00</td><td>1</td><td>2</td><td>&quot;EURUSD&quot;</td></tr><tr><td>1.10431</td><td>1.10437</td><td>1.10431</td><td>1.10433</td><td>2024-01-02 00:30:00</td><td>1</td><td>2</td><td>&quot;EURUSD&quot;</td></tr><tr><td>1.10426</td><td>1.10447</td><td>1.10423</td><td>1.10438</td><td>2024-01-02 00:45:00</td><td>1</td><td>2</td><td>&quot;EURUSD&quot;</td></tr><tr><td>1.10446</td><td>1.10446</td><td>1.10383</td><td>1.10383</td><td>2024-01-02 01:00:00</td><td>1</td><td>2</td><td>&quot;EURUSD&quot;</td></tr><tr><td>&hellip;</td><td>&hellip;</td><td>&hellip;</td><td>&hellip;</td><td>&hellip;</td><td>&hellip;</td><td>&hellip;</td><td>&hellip;</td></tr><tr><td>1.09183</td><td>1.09189</td><td>1.09179</td><td>1.09187</td><td>2024-08-09 22:45:00</td><td>32</td><td>5</td><td>&quot;EURUSD&quot;</td></tr><tr><td>1.09186</td><td>1.09194</td><td>1.09167</td><td>1.09168</td><td>2024-08-09 23:00:00</td><td>32</td><td>5</td><td>&quot;EURUSD&quot;</td></tr><tr><td>1.09168</td><td>1.09179</td><td>1.09167</td><td>1.09175</td><td>2024-08-09 23:15:00</td><td>32</td><td>5</td><td>&quot;EURUSD&quot;</td></tr><tr><td>1.09176</td><td>1.0919</td><td>1.09157</td><td>1.09158</td><td>2024-08-09 23:30:00</td><td>32</td><td>5</td><td>&quot;EURUSD&quot;</td></tr><tr><td>1.09158</td><td>1.09167</td><td>1.09148</td><td>1.09167</td><td>2024-08-09 23:45:00</td><td>32</td><td>5</td><td>&quot;EURUSD&quot;</td></tr></tbody></table></div>"
      ],
      "text/plain": [
       "shape: (15_264, 8)\n",
       "┌─────────┬─────────┬─────────┬─────────┬─────────────────────┬─────────────┬─────────┬────────┐\n",
       "│ Open    ┆ High    ┆ Low     ┆ Close   ┆ datetime            ┆ week_number ┆ weekday ┆ symbol │\n",
       "│ ---     ┆ ---     ┆ ---     ┆ ---     ┆ ---                 ┆ ---         ┆ ---     ┆ ---    │\n",
       "│ f64     ┆ f64     ┆ f64     ┆ f64     ┆ datetime[μs]        ┆ i8          ┆ i8      ┆ str    │\n",
       "╞═════════╪═════════╪═════════╪═════════╪═════════════════════╪═════════════╪═════════╪════════╡\n",
       "│ 1.10427 ┆ 1.10433 ┆ 1.10423 ┆ 1.10431 ┆ 2024-01-02 00:00:00 ┆ 1           ┆ 2       ┆ EURUSD │\n",
       "│ 1.1043  ┆ 1.10434 ┆ 1.1042  ┆ 1.1043  ┆ 2024-01-02 00:15:00 ┆ 1           ┆ 2       ┆ EURUSD │\n",
       "│ 1.10431 ┆ 1.10437 ┆ 1.10431 ┆ 1.10433 ┆ 2024-01-02 00:30:00 ┆ 1           ┆ 2       ┆ EURUSD │\n",
       "│ 1.10426 ┆ 1.10447 ┆ 1.10423 ┆ 1.10438 ┆ 2024-01-02 00:45:00 ┆ 1           ┆ 2       ┆ EURUSD │\n",
       "│ 1.10446 ┆ 1.10446 ┆ 1.10383 ┆ 1.10383 ┆ 2024-01-02 01:00:00 ┆ 1           ┆ 2       ┆ EURUSD │\n",
       "│ …       ┆ …       ┆ …       ┆ …       ┆ …                   ┆ …           ┆ …       ┆ …      │\n",
       "│ 1.09183 ┆ 1.09189 ┆ 1.09179 ┆ 1.09187 ┆ 2024-08-09 22:45:00 ┆ 32          ┆ 5       ┆ EURUSD │\n",
       "│ 1.09186 ┆ 1.09194 ┆ 1.09167 ┆ 1.09168 ┆ 2024-08-09 23:00:00 ┆ 32          ┆ 5       ┆ EURUSD │\n",
       "│ 1.09168 ┆ 1.09179 ┆ 1.09167 ┆ 1.09175 ┆ 2024-08-09 23:15:00 ┆ 32          ┆ 5       ┆ EURUSD │\n",
       "│ 1.09176 ┆ 1.0919  ┆ 1.09157 ┆ 1.09158 ┆ 2024-08-09 23:30:00 ┆ 32          ┆ 5       ┆ EURUSD │\n",
       "│ 1.09158 ┆ 1.09167 ┆ 1.09148 ┆ 1.09167 ┆ 2024-08-09 23:45:00 ┆ 32          ┆ 5       ┆ EURUSD │\n",
       "└─────────┴─────────┴─────────┴─────────┴─────────────────────┴─────────────┴─────────┴────────┘"
      ]
     },
     "execution_count": 24,
     "metadata": {},
     "output_type": "execute_result"
    }
   ],
   "source": [
    "full_ohlc_15_min_df = (\n",
    "        pl.scan_csv(f'C:/Users/WilliamFetzner/Documents/Trading/EURUSD_full_tickstory_data_15_min.csv')\n",
    "        .with_columns([\n",
    "            pl.col('').alias('datetime').str.to_datetime(format='%Y-%m-%d %H:%M:%S'),\n",
    "        ]).with_columns([\n",
    "            pl.col('datetime').dt.week().alias('week_number'),\n",
    "            # weekday\n",
    "            pl.col('datetime').dt.weekday().alias('weekday'),\n",
    "            pl.lit('EURUSD').alias('symbol'),\n",
    "        ]).filter(pl.col('datetime').dt.year() == 2024)\n",
    "        .drop('')\n",
    "    ).collect()  \n",
    "full_ohlc_15_min_df"
   ]
  },
  {
   "cell_type": "code",
   "execution_count": 33,
   "metadata": {},
   "outputs": [
    {
     "data": {
      "text/plain": [
       "['C:/Users/WilliamFetzner/Documents/Trading/FinRL-Meta/meta/env_fx_trading/data/train_week2.csv',\n",
       " 'C:/Users/WilliamFetzner/Documents/Trading/FinRL-Meta/meta/env_fx_trading/data/train_week3.csv',\n",
       " 'C:/Users/WilliamFetzner/Documents/Trading/FinRL-Meta/meta/env_fx_trading/data/train_week4.csv',\n",
       " 'C:/Users/WilliamFetzner/Documents/Trading/FinRL-Meta/meta/env_fx_trading/data/train_week5.csv',\n",
       " 'C:/Users/WilliamFetzner/Documents/Trading/FinRL-Meta/meta/env_fx_trading/data/train_week6.csv',\n",
       " 'C:/Users/WilliamFetzner/Documents/Trading/FinRL-Meta/meta/env_fx_trading/data/train_week7.csv',\n",
       " 'C:/Users/WilliamFetzner/Documents/Trading/FinRL-Meta/meta/env_fx_trading/data/train_week8.csv',\n",
       " 'C:/Users/WilliamFetzner/Documents/Trading/FinRL-Meta/meta/env_fx_trading/data/train_week9.csv',\n",
       " 'C:/Users/WilliamFetzner/Documents/Trading/FinRL-Meta/meta/env_fx_trading/data/train_week10.csv',\n",
       " 'C:/Users/WilliamFetzner/Documents/Trading/FinRL-Meta/meta/env_fx_trading/data/train_week11.csv']"
      ]
     },
     "execution_count": 33,
     "metadata": {},
     "output_type": "execute_result"
    }
   ],
   "source": [
    "# save all of the dataframes to csv files\n",
    "files = []\n",
    "num_weeks = full_ohlc_15_min_df.select(pl.col('week_number').max()).item()\n",
    "for i in range(2, num_weeks + 1):\n",
    "    week_i = full_ohlc_15_min_df.filter(pl.col('week_number') == i)\n",
    "    week_i = week_i.drop('week_number').to_pandas()\n",
    "    week_i['datetime'] = pd.to_datetime(week_i['datetime'])\n",
    "    path = 'C:/Users/WilliamFetzner/Documents/Trading/FinRL-Meta/meta/env_fx_trading/data/train_week' + str(i) + '.csv'\n",
    "    week_i.to_csv(path)\n",
    "    files.append(path)\n",
    "files_train = files[:10]\n",
    "files_train"
   ]
  },
  {
   "cell_type": "code",
   "execution_count": 16,
   "metadata": {},
   "outputs": [],
   "source": [
    "files_train = ['C:/Users/WilliamFetzner/Documents/Trading/FinRL-Meta/meta/env_fx_trading/data/train_week2.csv',]\n",
    "#  'C:/Users/WilliamFetzner/Documents/Trading/FinRL-Meta/meta/env_fx_trading/data/train_week3.csv',\n",
    "#  'C:/Users/WilliamFetzner/Documents/Trading/FinRL-Meta/meta/env_fx_trading/data/train_week4.csv',\n",
    "#  'C:/Users/WilliamFetzner/Documents/Trading/FinRL-Meta/meta/env_fx_trading/data/train_week5.csv',\n",
    "#  'C:/Users/WilliamFetzner/Documents/Trading/FinRL-Meta/meta/env_fx_trading/data/train_week6.csv',\n",
    "#  'C:/Users/WilliamFetzner/Documents/Trading/FinRL-Meta/meta/env_fx_trading/data/train_week7.csv',\n",
    "#  'C:/Users/WilliamFetzner/Documents/Trading/FinRL-Meta/meta/env_fx_trading/data/train_week8.csv',\n",
    "#  'C:/Users/WilliamFetzner/Documents/Trading/FinRL-Meta/meta/env_fx_trading/data/train_week9.csv',\n",
    "#  'C:/Users/WilliamFetzner/Documents/Trading/FinRL-Meta/meta/env_fx_trading/data/train_week10.csv',\n",
    "#  'C:/Users/WilliamFetzner/Documents/Trading/FinRL-Meta/meta/env_fx_trading/data/train_week11.csv']"
   ]
  },
  {
   "cell_type": "markdown",
   "metadata": {},
   "source": [
    "# Reinforcement Learning"
   ]
  },
  {
   "cell_type": "code",
   "execution_count": 30,
   "metadata": {},
   "outputs": [],
   "source": [
    "df = pd.read_csv(\n",
    "    files_train[0]) #2024-03-11 00:00:00"
   ]
  },
  {
   "cell_type": "code",
   "execution_count": 31,
   "metadata": {},
   "outputs": [
    {
     "data": {
      "text/html": [
       "<div>\n",
       "<style scoped>\n",
       "    .dataframe tbody tr th:only-of-type {\n",
       "        vertical-align: middle;\n",
       "    }\n",
       "\n",
       "    .dataframe tbody tr th {\n",
       "        vertical-align: top;\n",
       "    }\n",
       "\n",
       "    .dataframe thead th {\n",
       "        text-align: right;\n",
       "    }\n",
       "</style>\n",
       "<table border=\"1\" class=\"dataframe\">\n",
       "  <thead>\n",
       "    <tr style=\"text-align: right;\">\n",
       "      <th></th>\n",
       "      <th>Unnamed: 0</th>\n",
       "      <th>Open</th>\n",
       "      <th>High</th>\n",
       "      <th>Low</th>\n",
       "      <th>Close</th>\n",
       "      <th>datetime</th>\n",
       "      <th>weekday</th>\n",
       "      <th>symbol</th>\n",
       "    </tr>\n",
       "  </thead>\n",
       "  <tbody>\n",
       "    <tr>\n",
       "      <th>0</th>\n",
       "      <td>0</td>\n",
       "      <td>1.09386</td>\n",
       "      <td>1.09442</td>\n",
       "      <td>1.09376</td>\n",
       "      <td>1.09434</td>\n",
       "      <td>2024-01-08 00:00:00</td>\n",
       "      <td>1</td>\n",
       "      <td>EURUSD</td>\n",
       "    </tr>\n",
       "    <tr>\n",
       "      <th>1</th>\n",
       "      <td>1</td>\n",
       "      <td>1.09434</td>\n",
       "      <td>1.09446</td>\n",
       "      <td>1.09418</td>\n",
       "      <td>1.09436</td>\n",
       "      <td>2024-01-08 00:15:00</td>\n",
       "      <td>1</td>\n",
       "      <td>EURUSD</td>\n",
       "    </tr>\n",
       "    <tr>\n",
       "      <th>2</th>\n",
       "      <td>2</td>\n",
       "      <td>1.09440</td>\n",
       "      <td>1.09444</td>\n",
       "      <td>1.09427</td>\n",
       "      <td>1.09439</td>\n",
       "      <td>2024-01-08 00:30:00</td>\n",
       "      <td>1</td>\n",
       "      <td>EURUSD</td>\n",
       "    </tr>\n",
       "    <tr>\n",
       "      <th>3</th>\n",
       "      <td>3</td>\n",
       "      <td>1.09440</td>\n",
       "      <td>1.09451</td>\n",
       "      <td>1.09439</td>\n",
       "      <td>1.09444</td>\n",
       "      <td>2024-01-08 00:45:00</td>\n",
       "      <td>1</td>\n",
       "      <td>EURUSD</td>\n",
       "    </tr>\n",
       "    <tr>\n",
       "      <th>4</th>\n",
       "      <td>4</td>\n",
       "      <td>1.09445</td>\n",
       "      <td>1.09456</td>\n",
       "      <td>1.09381</td>\n",
       "      <td>1.09391</td>\n",
       "      <td>2024-01-08 01:00:00</td>\n",
       "      <td>1</td>\n",
       "      <td>EURUSD</td>\n",
       "    </tr>\n",
       "    <tr>\n",
       "      <th>...</th>\n",
       "      <td>...</td>\n",
       "      <td>...</td>\n",
       "      <td>...</td>\n",
       "      <td>...</td>\n",
       "      <td>...</td>\n",
       "      <td>...</td>\n",
       "      <td>...</td>\n",
       "      <td>...</td>\n",
       "    </tr>\n",
       "    <tr>\n",
       "      <th>475</th>\n",
       "      <td>475</td>\n",
       "      <td>1.09533</td>\n",
       "      <td>1.09538</td>\n",
       "      <td>1.09504</td>\n",
       "      <td>1.09512</td>\n",
       "      <td>2024-01-12 22:45:00</td>\n",
       "      <td>5</td>\n",
       "      <td>EURUSD</td>\n",
       "    </tr>\n",
       "    <tr>\n",
       "      <th>476</th>\n",
       "      <td>476</td>\n",
       "      <td>1.09511</td>\n",
       "      <td>1.09526</td>\n",
       "      <td>1.09496</td>\n",
       "      <td>1.09497</td>\n",
       "      <td>2024-01-12 23:00:00</td>\n",
       "      <td>5</td>\n",
       "      <td>EURUSD</td>\n",
       "    </tr>\n",
       "    <tr>\n",
       "      <th>477</th>\n",
       "      <td>477</td>\n",
       "      <td>1.09499</td>\n",
       "      <td>1.09520</td>\n",
       "      <td>1.09489</td>\n",
       "      <td>1.09493</td>\n",
       "      <td>2024-01-12 23:15:00</td>\n",
       "      <td>5</td>\n",
       "      <td>EURUSD</td>\n",
       "    </tr>\n",
       "    <tr>\n",
       "      <th>478</th>\n",
       "      <td>478</td>\n",
       "      <td>1.09494</td>\n",
       "      <td>1.09495</td>\n",
       "      <td>1.09481</td>\n",
       "      <td>1.09489</td>\n",
       "      <td>2024-01-12 23:30:00</td>\n",
       "      <td>5</td>\n",
       "      <td>EURUSD</td>\n",
       "    </tr>\n",
       "    <tr>\n",
       "      <th>479</th>\n",
       "      <td>479</td>\n",
       "      <td>1.09488</td>\n",
       "      <td>1.09515</td>\n",
       "      <td>1.09483</td>\n",
       "      <td>1.09483</td>\n",
       "      <td>2024-01-12 23:45:00</td>\n",
       "      <td>5</td>\n",
       "      <td>EURUSD</td>\n",
       "    </tr>\n",
       "  </tbody>\n",
       "</table>\n",
       "<p>480 rows × 8 columns</p>\n",
       "</div>"
      ],
      "text/plain": [
       "     Unnamed: 0     Open     High      Low    Close             datetime  \\\n",
       "0             0  1.09386  1.09442  1.09376  1.09434  2024-01-08 00:00:00   \n",
       "1             1  1.09434  1.09446  1.09418  1.09436  2024-01-08 00:15:00   \n",
       "2             2  1.09440  1.09444  1.09427  1.09439  2024-01-08 00:30:00   \n",
       "3             3  1.09440  1.09451  1.09439  1.09444  2024-01-08 00:45:00   \n",
       "4             4  1.09445  1.09456  1.09381  1.09391  2024-01-08 01:00:00   \n",
       "..          ...      ...      ...      ...      ...                  ...   \n",
       "475         475  1.09533  1.09538  1.09504  1.09512  2024-01-12 22:45:00   \n",
       "476         476  1.09511  1.09526  1.09496  1.09497  2024-01-12 23:00:00   \n",
       "477         477  1.09499  1.09520  1.09489  1.09493  2024-01-12 23:15:00   \n",
       "478         478  1.09494  1.09495  1.09481  1.09489  2024-01-12 23:30:00   \n",
       "479         479  1.09488  1.09515  1.09483  1.09483  2024-01-12 23:45:00   \n",
       "\n",
       "     weekday  symbol  \n",
       "0          1  EURUSD  \n",
       "1          1  EURUSD  \n",
       "2          1  EURUSD  \n",
       "3          1  EURUSD  \n",
       "4          1  EURUSD  \n",
       "..       ...     ...  \n",
       "475        5  EURUSD  \n",
       "476        5  EURUSD  \n",
       "477        5  EURUSD  \n",
       "478        5  EURUSD  \n",
       "479        5  EURUSD  \n",
       "\n",
       "[480 rows x 8 columns]"
      ]
     },
     "execution_count": 31,
     "metadata": {},
     "output_type": "execute_result"
    }
   ],
   "source": [
    "df"
   ]
  },
  {
   "cell_type": "code",
   "execution_count": 71,
   "metadata": {},
   "outputs": [],
   "source": [
    "# Reload the module\n",
    "importlib.reload(sys.modules['meta.env_fx_trading.env_fx'])\n",
    "\n",
    "# Update the local reference to the reloaded module\n",
    "tgym = sys.modules['meta.env_fx_trading.env_fx'].tgym"
   ]
  },
  {
   "cell_type": "code",
   "execution_count": 73,
   "metadata": {},
   "outputs": [],
   "source": [
    "def train(env, agent, files, if_vix = True, **kwargs):\n",
    "    learning_rate = kwargs.get('learning_rate', 2 ** -15)\n",
    "    batch_size = kwargs.get('batch_size', 2 ** 11 )\n",
    "    gamma = kwargs.get('gamma', 0.99)\n",
    "    seed = kwargs.get('seed', 312)\n",
    "    total_timesteps = kwargs.get('total_timesteps', 1e6)\n",
    "    net_dimension = kwargs.get('net_dimension', 2**9)\n",
    "    cwd = kwargs.get('cwd','./'+str(agent))\n",
    "\n",
    "    # env_instance = map(env, [pd.read_csv(f) for f in files])\n",
    "    if agent == 'ppo':\n",
    "        from stable_baselines3 import PPO\n",
    "        from stable_baselines3.common.vec_env import SubprocVecEnv, DummyVecEnv\n",
    "\n",
    "        # env_train = [x.get_sb_env for x in env_instance ]\n",
    "        vector_env = [lambda:env(df=pd.read_csv(f)) for f in files]\n",
    "        env_train = SubprocVecEnv(vector_env)\n",
    "        model = PPO(\"MlpPolicy\", env_train, learning_rate=learning_rate, \n",
    "                    n_steps=2048, batch_size=batch_size, ent_coef=0.0, \n",
    "                    gamma=gamma, seed=seed)\n",
    "        start_time = time.time()\n",
    "        s = datetime.datetime.now()\n",
    "        print(f'Training start: {s}')\n",
    "        model.learn(total_timesteps=total_timesteps, tb_log_name = 'ppo')\n",
    "        print('Training finished!')\n",
    "        model_name = \"./data/models/EURUSD_week_\" + s.strftime('%Y%m%d%H%M%S')\n",
    "        model.save(model_name)\n",
    "        print(f'Trained model saved in {model_name}')\n",
    "        print(f\"training time: {(time.time() - start_time)}\")\n",
    "\n",
    "    else:\n",
    "        raise ValueError('DRL library input is NOT supported. Please check.')\n",
    "train(env=tgym, agent=\"ppo\", files=files_train)"
   ]
  },
  {
   "cell_type": "markdown",
   "metadata": {},
   "source": [
    "# Environment: "
   ]
  },
  {
   "cell_type": "markdown",
   "metadata": {},
   "source": [
    "## Keras Architecture\n",
    "In this code snippet:\n",
    "\n",
    "- We import necessary modules from TensorFlow and Keras.\n",
    "\n",
    "- We define functions build_actor_network and build_critic_network to create the actor and critic networks using Keras' functional API.\n",
    "\n",
    "- The actor network outputs a probability distribution over actions using softmax activation.\n",
    "\n",
    "- The critic network estimates the state value function."
   ]
  },
  {
   "cell_type": "code",
   "execution_count": 7,
   "metadata": {},
   "outputs": [
    {
     "data": {
      "text/html": [
       "<pre style=\"white-space:pre;overflow-x:auto;line-height:normal;font-family:Menlo,'DejaVu Sans Mono',consolas,'Courier New',monospace\"><span style=\"font-weight: bold\">Model: \"functional_1\"</span>\n",
       "</pre>\n"
      ],
      "text/plain": [
       "\u001b[1mModel: \"functional_1\"\u001b[0m\n"
      ]
     },
     "metadata": {},
     "output_type": "display_data"
    },
    {
     "data": {
      "text/html": [
       "<pre style=\"white-space:pre;overflow-x:auto;line-height:normal;font-family:Menlo,'DejaVu Sans Mono',consolas,'Courier New',monospace\">┏━━━━━━━━━━━━━━━━━━━━━━━━━━━━━━━━━┳━━━━━━━━━━━━━━━━━━━━━━━━┳━━━━━━━━━━━━━━━┓\n",
       "┃<span style=\"font-weight: bold\"> Layer (type)                    </span>┃<span style=\"font-weight: bold\"> Output Shape           </span>┃<span style=\"font-weight: bold\">       Param # </span>┃\n",
       "┡━━━━━━━━━━━━━━━━━━━━━━━━━━━━━━━━━╇━━━━━━━━━━━━━━━━━━━━━━━━╇━━━━━━━━━━━━━━━┩\n",
       "│ input_layer (<span style=\"color: #0087ff; text-decoration-color: #0087ff\">InputLayer</span>)        │ (<span style=\"color: #00d7ff; text-decoration-color: #00d7ff\">None</span>, <span style=\"color: #00af00; text-decoration-color: #00af00\">4</span>)              │             <span style=\"color: #00af00; text-decoration-color: #00af00\">0</span> │\n",
       "├─────────────────────────────────┼────────────────────────┼───────────────┤\n",
       "│ dense (<span style=\"color: #0087ff; text-decoration-color: #0087ff\">Dense</span>)                   │ (<span style=\"color: #00d7ff; text-decoration-color: #00d7ff\">None</span>, <span style=\"color: #00af00; text-decoration-color: #00af00\">64</span>)             │           <span style=\"color: #00af00; text-decoration-color: #00af00\">320</span> │\n",
       "├─────────────────────────────────┼────────────────────────┼───────────────┤\n",
       "│ dense_1 (<span style=\"color: #0087ff; text-decoration-color: #0087ff\">Dense</span>)                 │ (<span style=\"color: #00d7ff; text-decoration-color: #00d7ff\">None</span>, <span style=\"color: #00af00; text-decoration-color: #00af00\">64</span>)             │         <span style=\"color: #00af00; text-decoration-color: #00af00\">4,160</span> │\n",
       "├─────────────────────────────────┼────────────────────────┼───────────────┤\n",
       "│ dense_2 (<span style=\"color: #0087ff; text-decoration-color: #0087ff\">Dense</span>)                 │ (<span style=\"color: #00d7ff; text-decoration-color: #00d7ff\">None</span>, <span style=\"color: #00af00; text-decoration-color: #00af00\">2</span>)              │           <span style=\"color: #00af00; text-decoration-color: #00af00\">130</span> │\n",
       "└─────────────────────────────────┴────────────────────────┴───────────────┘\n",
       "</pre>\n"
      ],
      "text/plain": [
       "┏━━━━━━━━━━━━━━━━━━━━━━━━━━━━━━━━━┳━━━━━━━━━━━━━━━━━━━━━━━━┳━━━━━━━━━━━━━━━┓\n",
       "┃\u001b[1m \u001b[0m\u001b[1mLayer (type)                   \u001b[0m\u001b[1m \u001b[0m┃\u001b[1m \u001b[0m\u001b[1mOutput Shape          \u001b[0m\u001b[1m \u001b[0m┃\u001b[1m \u001b[0m\u001b[1m      Param #\u001b[0m\u001b[1m \u001b[0m┃\n",
       "┡━━━━━━━━━━━━━━━━━━━━━━━━━━━━━━━━━╇━━━━━━━━━━━━━━━━━━━━━━━━╇━━━━━━━━━━━━━━━┩\n",
       "│ input_layer (\u001b[38;5;33mInputLayer\u001b[0m)        │ (\u001b[38;5;45mNone\u001b[0m, \u001b[38;5;34m4\u001b[0m)              │             \u001b[38;5;34m0\u001b[0m │\n",
       "├─────────────────────────────────┼────────────────────────┼───────────────┤\n",
       "│ dense (\u001b[38;5;33mDense\u001b[0m)                   │ (\u001b[38;5;45mNone\u001b[0m, \u001b[38;5;34m64\u001b[0m)             │           \u001b[38;5;34m320\u001b[0m │\n",
       "├─────────────────────────────────┼────────────────────────┼───────────────┤\n",
       "│ dense_1 (\u001b[38;5;33mDense\u001b[0m)                 │ (\u001b[38;5;45mNone\u001b[0m, \u001b[38;5;34m64\u001b[0m)             │         \u001b[38;5;34m4,160\u001b[0m │\n",
       "├─────────────────────────────────┼────────────────────────┼───────────────┤\n",
       "│ dense_2 (\u001b[38;5;33mDense\u001b[0m)                 │ (\u001b[38;5;45mNone\u001b[0m, \u001b[38;5;34m2\u001b[0m)              │           \u001b[38;5;34m130\u001b[0m │\n",
       "└─────────────────────────────────┴────────────────────────┴───────────────┘\n"
      ]
     },
     "metadata": {},
     "output_type": "display_data"
    },
    {
     "data": {
      "text/html": [
       "<pre style=\"white-space:pre;overflow-x:auto;line-height:normal;font-family:Menlo,'DejaVu Sans Mono',consolas,'Courier New',monospace\"><span style=\"font-weight: bold\"> Total params: </span><span style=\"color: #00af00; text-decoration-color: #00af00\">4,610</span> (18.01 KB)\n",
       "</pre>\n"
      ],
      "text/plain": [
       "\u001b[1m Total params: \u001b[0m\u001b[38;5;34m4,610\u001b[0m (18.01 KB)\n"
      ]
     },
     "metadata": {},
     "output_type": "display_data"
    },
    {
     "data": {
      "text/html": [
       "<pre style=\"white-space:pre;overflow-x:auto;line-height:normal;font-family:Menlo,'DejaVu Sans Mono',consolas,'Courier New',monospace\"><span style=\"font-weight: bold\"> Trainable params: </span><span style=\"color: #00af00; text-decoration-color: #00af00\">4,610</span> (18.01 KB)\n",
       "</pre>\n"
      ],
      "text/plain": [
       "\u001b[1m Trainable params: \u001b[0m\u001b[38;5;34m4,610\u001b[0m (18.01 KB)\n"
      ]
     },
     "metadata": {},
     "output_type": "display_data"
    },
    {
     "data": {
      "text/html": [
       "<pre style=\"white-space:pre;overflow-x:auto;line-height:normal;font-family:Menlo,'DejaVu Sans Mono',consolas,'Courier New',monospace\"><span style=\"font-weight: bold\"> Non-trainable params: </span><span style=\"color: #00af00; text-decoration-color: #00af00\">0</span> (0.00 B)\n",
       "</pre>\n"
      ],
      "text/plain": [
       "\u001b[1m Non-trainable params: \u001b[0m\u001b[38;5;34m0\u001b[0m (0.00 B)\n"
      ]
     },
     "metadata": {},
     "output_type": "display_data"
    },
    {
     "data": {
      "text/html": [
       "<pre style=\"white-space:pre;overflow-x:auto;line-height:normal;font-family:Menlo,'DejaVu Sans Mono',consolas,'Courier New',monospace\"><span style=\"font-weight: bold\">Model: \"functional_3\"</span>\n",
       "</pre>\n"
      ],
      "text/plain": [
       "\u001b[1mModel: \"functional_3\"\u001b[0m\n"
      ]
     },
     "metadata": {},
     "output_type": "display_data"
    },
    {
     "data": {
      "text/html": [
       "<pre style=\"white-space:pre;overflow-x:auto;line-height:normal;font-family:Menlo,'DejaVu Sans Mono',consolas,'Courier New',monospace\">┏━━━━━━━━━━━━━━━━━━━━━━━━━━━━━━━━━┳━━━━━━━━━━━━━━━━━━━━━━━━┳━━━━━━━━━━━━━━━┓\n",
       "┃<span style=\"font-weight: bold\"> Layer (type)                    </span>┃<span style=\"font-weight: bold\"> Output Shape           </span>┃<span style=\"font-weight: bold\">       Param # </span>┃\n",
       "┡━━━━━━━━━━━━━━━━━━━━━━━━━━━━━━━━━╇━━━━━━━━━━━━━━━━━━━━━━━━╇━━━━━━━━━━━━━━━┩\n",
       "│ input_layer_1 (<span style=\"color: #0087ff; text-decoration-color: #0087ff\">InputLayer</span>)      │ (<span style=\"color: #00d7ff; text-decoration-color: #00d7ff\">None</span>, <span style=\"color: #00af00; text-decoration-color: #00af00\">4</span>)              │             <span style=\"color: #00af00; text-decoration-color: #00af00\">0</span> │\n",
       "├─────────────────────────────────┼────────────────────────┼───────────────┤\n",
       "│ dense_3 (<span style=\"color: #0087ff; text-decoration-color: #0087ff\">Dense</span>)                 │ (<span style=\"color: #00d7ff; text-decoration-color: #00d7ff\">None</span>, <span style=\"color: #00af00; text-decoration-color: #00af00\">64</span>)             │           <span style=\"color: #00af00; text-decoration-color: #00af00\">320</span> │\n",
       "├─────────────────────────────────┼────────────────────────┼───────────────┤\n",
       "│ dense_4 (<span style=\"color: #0087ff; text-decoration-color: #0087ff\">Dense</span>)                 │ (<span style=\"color: #00d7ff; text-decoration-color: #00d7ff\">None</span>, <span style=\"color: #00af00; text-decoration-color: #00af00\">64</span>)             │         <span style=\"color: #00af00; text-decoration-color: #00af00\">4,160</span> │\n",
       "├─────────────────────────────────┼────────────────────────┼───────────────┤\n",
       "│ dense_5 (<span style=\"color: #0087ff; text-decoration-color: #0087ff\">Dense</span>)                 │ (<span style=\"color: #00d7ff; text-decoration-color: #00d7ff\">None</span>, <span style=\"color: #00af00; text-decoration-color: #00af00\">1</span>)              │            <span style=\"color: #00af00; text-decoration-color: #00af00\">65</span> │\n",
       "└─────────────────────────────────┴────────────────────────┴───────────────┘\n",
       "</pre>\n"
      ],
      "text/plain": [
       "┏━━━━━━━━━━━━━━━━━━━━━━━━━━━━━━━━━┳━━━━━━━━━━━━━━━━━━━━━━━━┳━━━━━━━━━━━━━━━┓\n",
       "┃\u001b[1m \u001b[0m\u001b[1mLayer (type)                   \u001b[0m\u001b[1m \u001b[0m┃\u001b[1m \u001b[0m\u001b[1mOutput Shape          \u001b[0m\u001b[1m \u001b[0m┃\u001b[1m \u001b[0m\u001b[1m      Param #\u001b[0m\u001b[1m \u001b[0m┃\n",
       "┡━━━━━━━━━━━━━━━━━━━━━━━━━━━━━━━━━╇━━━━━━━━━━━━━━━━━━━━━━━━╇━━━━━━━━━━━━━━━┩\n",
       "│ input_layer_1 (\u001b[38;5;33mInputLayer\u001b[0m)      │ (\u001b[38;5;45mNone\u001b[0m, \u001b[38;5;34m4\u001b[0m)              │             \u001b[38;5;34m0\u001b[0m │\n",
       "├─────────────────────────────────┼────────────────────────┼───────────────┤\n",
       "│ dense_3 (\u001b[38;5;33mDense\u001b[0m)                 │ (\u001b[38;5;45mNone\u001b[0m, \u001b[38;5;34m64\u001b[0m)             │           \u001b[38;5;34m320\u001b[0m │\n",
       "├─────────────────────────────────┼────────────────────────┼───────────────┤\n",
       "│ dense_4 (\u001b[38;5;33mDense\u001b[0m)                 │ (\u001b[38;5;45mNone\u001b[0m, \u001b[38;5;34m64\u001b[0m)             │         \u001b[38;5;34m4,160\u001b[0m │\n",
       "├─────────────────────────────────┼────────────────────────┼───────────────┤\n",
       "│ dense_5 (\u001b[38;5;33mDense\u001b[0m)                 │ (\u001b[38;5;45mNone\u001b[0m, \u001b[38;5;34m1\u001b[0m)              │            \u001b[38;5;34m65\u001b[0m │\n",
       "└─────────────────────────────────┴────────────────────────┴───────────────┘\n"
      ]
     },
     "metadata": {},
     "output_type": "display_data"
    },
    {
     "data": {
      "text/html": [
       "<pre style=\"white-space:pre;overflow-x:auto;line-height:normal;font-family:Menlo,'DejaVu Sans Mono',consolas,'Courier New',monospace\"><span style=\"font-weight: bold\"> Total params: </span><span style=\"color: #00af00; text-decoration-color: #00af00\">4,545</span> (17.75 KB)\n",
       "</pre>\n"
      ],
      "text/plain": [
       "\u001b[1m Total params: \u001b[0m\u001b[38;5;34m4,545\u001b[0m (17.75 KB)\n"
      ]
     },
     "metadata": {},
     "output_type": "display_data"
    },
    {
     "data": {
      "text/html": [
       "<pre style=\"white-space:pre;overflow-x:auto;line-height:normal;font-family:Menlo,'DejaVu Sans Mono',consolas,'Courier New',monospace\"><span style=\"font-weight: bold\"> Trainable params: </span><span style=\"color: #00af00; text-decoration-color: #00af00\">4,545</span> (17.75 KB)\n",
       "</pre>\n"
      ],
      "text/plain": [
       "\u001b[1m Trainable params: \u001b[0m\u001b[38;5;34m4,545\u001b[0m (17.75 KB)\n"
      ]
     },
     "metadata": {},
     "output_type": "display_data"
    },
    {
     "data": {
      "text/html": [
       "<pre style=\"white-space:pre;overflow-x:auto;line-height:normal;font-family:Menlo,'DejaVu Sans Mono',consolas,'Courier New',monospace\"><span style=\"font-weight: bold\"> Non-trainable params: </span><span style=\"color: #00af00; text-decoration-color: #00af00\">0</span> (0.00 B)\n",
       "</pre>\n"
      ],
      "text/plain": [
       "\u001b[1m Non-trainable params: \u001b[0m\u001b[38;5;34m0\u001b[0m (0.00 B)\n"
      ]
     },
     "metadata": {},
     "output_type": "display_data"
    }
   ],
   "source": [
    "# Define the Keras model architecture for the actor network\n",
    "def build_actor_network(state_dim, action_dim):\n",
    "    inputs = layers.Input(shape=(state_dim,))\n",
    "    dense1 = layers.Dense(64, activation='relu')(inputs)\n",
    "    dense2 = layers.Dense(64, activation='relu')(dense1)\n",
    "    outputs = layers.Dense(action_dim, activation='softmax')(dense2)  # Softmax for policy output\n",
    "    model = keras.Model(inputs=inputs, outputs=outputs)\n",
    "    return model\n",
    "\n",
    "# Define the Keras model architecture for the critic network\n",
    "def build_critic_network(state_dim):\n",
    "    inputs = layers.Input(shape=(state_dim,))\n",
    "    dense1 = layers.Dense(64, activation='relu')(inputs)\n",
    "    dense2 = layers.Dense(64, activation='relu')(dense1)\n",
    "    outputs = layers.Dense(1)(dense2)  # Linear output for value estimation\n",
    "    model = keras.Model(inputs=inputs, outputs=outputs)\n",
    "    return model\n",
    "\n",
    "# Example usage:\n",
    "state_dim = 4  # Example state dimension\n",
    "action_dim = 2  # Example action dimension\n",
    "\n",
    "actor_model = build_actor_network(state_dim, action_dim)\n",
    "critic_model = build_critic_network(state_dim)\n",
    "\n",
    "actor_model.summary()\n",
    "critic_model.summary()"
   ]
  },
  {
   "cell_type": "markdown",
   "metadata": {},
   "source": [
    "# PPO Loss Function\n",
    "In this code snippet:\n",
    "\n",
    "- The ppo_loss function defines a custom loss function that calculates the PPO loss based on the clipped surrogate objective.\n",
    "- The loss function computes the PPO loss using the ratio of new probabilities to old probabilities and applies clipping to ensure stable updates.\n",
    "- An entropy term is included in the loss function to encourage exploration.\n",
    "- Finally, the actor model is compiled using the PPO loss function for training.\n"
   ]
  },
  {
   "cell_type": "code",
   "execution_count": 8,
   "metadata": {},
   "outputs": [],
   "source": [
    "# PPO loss function\n",
    "def ppo_loss(old_probs, advantages, clip_ratio):\n",
    "    def loss(y_true, y_pred):\n",
    "        new_probs = y_pred\n",
    "        ratio = new_probs / old_probs\n",
    "\n",
    "        clipped_ratio = tf.clip_by_value(ratio, 1 - clip_ratio, 1 + clip_ratio)\n",
    "        surrogate_objective = tf.minimum(ratio * advantages, clipped_ratio * advantages)\n",
    "\n",
    "        entropy = -tf.reduce_sum(new_probs * tf.math.log(new_probs + 1e-10), axis=-1)  # Entropy bonus\n",
    "\n",
    "        ppo_loss = -tf.reduce_mean(surrogate_objective - 0.01 * entropy)  # Include entropy for exploration\n",
    "\n",
    "        return ppo_loss\n",
    "\n",
    "    return loss\n",
    "\n",
    "# Example usage:\n",
    "clip_ratio = 0.2  # Example clip ratio\n",
    "advantages = np.random.rand(10)  # Example advantages array\n",
    "old_probs = np.random.rand(10, 2)  # Example old probabilities array\n",
    "\n",
    "# Compile the actor model with PPO loss function\n",
    "actor_model.compile(optimizer=keras.optimizers.Adam(), loss=ppo_loss(old_probs, advantages, clip_ratio))"
   ]
  },
  {
   "cell_type": "markdown",
   "metadata": {},
   "source": [
    "# Compute Advantages\n",
    "In this custom compute_advantages function:\n",
    "\n",
    "- The function calculates advantages using the Generalized Advantage Estimation (GAE) method, incorporating rewards, predicted values from the critic network, and discount factors.\n",
    "- It penalizes holding trades over the weekend by adjusting advantages for transitions from Friday to Monday based on the 'day_of_week_transition' feature.\n",
    "- You can adjust the penalty_amount based on your specific trading strategy and risk management considerations."
   ]
  },
  {
   "cell_type": "code",
   "execution_count": 9,
   "metadata": {},
   "outputs": [],
   "source": [
    "def compute_advantages(states, rewards, dones, values, gamma=0.99, lmbda=0.95):\n",
    "    advantages = np.zeros_like(rewards)\n",
    "    last_advantage = 0\n",
    "\n",
    "    # Calculate advantages using Generalized Advantage Estimation (GAE)\n",
    "    for t in reversed(range(len(rewards))):\n",
    "        if dones[t]:\n",
    "            next_value = 0\n",
    "        else:\n",
    "            next_value = values[t + 1]\n",
    "\n",
    "        delta = rewards[t] + gamma * next_value - values[t]\n",
    "        advantages[t] = last_advantage = delta + gamma * lmbda * last_advantage\n",
    "\n",
    "    # Penalize holding trades over the weekend (e.g., Friday to Monday)\n",
    "    for t in range(len(states) - 1):\n",
    "        if states[t]['day_of_week_transition'] == 1 and states[t + 1]['day_of_week_transition'] == 0:\n",
    "            advantages[t] -= (1-penalty_amount)*advantages[t]\n",
    "\n",
    "    return advantages\n"
   ]
  },
  {
   "cell_type": "markdown",
   "metadata": {},
   "source": [
    "# Training Loop\n",
    "\n",
    "In this code snippet:\n",
    "- The train_ppo function defines a training loop that collects experiences from interacting with the environment and performs PPO updates using the collected data.\n",
    "- The compute_advantages function calculates advantages using rewards and values from the critic network.\n",
    "- The PPO agent is initialized with actor and critic models.\n",
    "- The training loop is executed for a specified number of epochs on an example environment (CartPole-v1)."
   ]
  },
  {
   "cell_type": "code",
   "execution_count": 10,
   "metadata": {},
   "outputs": [
    {
     "ename": "ValueError",
     "evalue": "setting an array element with a sequence. The requested array has an inhomogeneous shape after 2 dimensions. The detected shape was (1, 2) + inhomogeneous part.",
     "output_type": "error",
     "traceback": [
      "\u001b[1;31m---------------------------------------------------------------------------\u001b[0m",
      "\u001b[1;31mValueError\u001b[0m                                Traceback (most recent call last)",
      "Cell \u001b[1;32mIn[10], line 46\u001b[0m\n\u001b[0;32m     43\u001b[0m critic_model \u001b[38;5;241m=\u001b[39m build_critic_network(env\u001b[38;5;241m.\u001b[39mobservation_space\u001b[38;5;241m.\u001b[39mshape[\u001b[38;5;241m0\u001b[39m])\n\u001b[0;32m     44\u001b[0m agent \u001b[38;5;241m=\u001b[39m PPOAgent(actor_model, critic_model)\n\u001b[1;32m---> 46\u001b[0m \u001b[43mtrain_ppo\u001b[49m\u001b[43m(\u001b[49m\u001b[43magent\u001b[49m\u001b[43m,\u001b[49m\u001b[43m \u001b[49m\u001b[43menv\u001b[49m\u001b[43m,\u001b[49m\u001b[43m \u001b[49m\u001b[43mepochs\u001b[49m\u001b[38;5;241;43m=\u001b[39;49m\u001b[38;5;241;43m100\u001b[39;49m\u001b[43m,\u001b[49m\u001b[43m \u001b[49m\u001b[43mbatch_size\u001b[49m\u001b[38;5;241;43m=\u001b[39;49m\u001b[38;5;241;43m32\u001b[39;49m\u001b[43m)\u001b[49m\n",
      "Cell \u001b[1;32mIn[10], line 14\u001b[0m, in \u001b[0;36mtrain_ppo\u001b[1;34m(agent, env, epochs, batch_size)\u001b[0m\n\u001b[0;32m     11\u001b[0m done \u001b[38;5;241m=\u001b[39m \u001b[38;5;28;01mFalse\u001b[39;00m\n\u001b[0;32m     13\u001b[0m \u001b[38;5;28;01mwhile\u001b[39;00m \u001b[38;5;129;01mnot\u001b[39;00m done:\n\u001b[1;32m---> 14\u001b[0m     action_probs \u001b[38;5;241m=\u001b[39m agent\u001b[38;5;241m.\u001b[39mactor_model\u001b[38;5;241m.\u001b[39mpredict(\u001b[43mnp\u001b[49m\u001b[38;5;241;43m.\u001b[39;49m\u001b[43marray\u001b[49m\u001b[43m(\u001b[49m\u001b[43m[\u001b[49m\u001b[43mstate\u001b[49m\u001b[43m]\u001b[49m\u001b[43m)\u001b[49m)[\u001b[38;5;241m0\u001b[39m]\n\u001b[0;32m     15\u001b[0m     action \u001b[38;5;241m=\u001b[39m np\u001b[38;5;241m.\u001b[39mrandom\u001b[38;5;241m.\u001b[39mchoice(\u001b[38;5;28mlen\u001b[39m(action_probs), p\u001b[38;5;241m=\u001b[39maction_probs)\n\u001b[0;32m     16\u001b[0m     next_state, reward, done, _ \u001b[38;5;241m=\u001b[39m env\u001b[38;5;241m.\u001b[39mstep(action)\n",
      "\u001b[1;31mValueError\u001b[0m: setting an array element with a sequence. The requested array has an inhomogeneous shape after 2 dimensions. The detected shape was (1, 2) + inhomogeneous part."
     ]
    }
   ],
   "source": [
    "# Define the training loop for PPO agent\n",
    "def train_ppo(agent, env, epochs, batch_size):\n",
    "    for epoch in range(epochs):\n",
    "        states = []\n",
    "        actions = []\n",
    "        rewards = []\n",
    "        old_probs = []\n",
    "        dones = []\n",
    "\n",
    "        state = env.reset()\n",
    "        done = False\n",
    "\n",
    "        while not done:\n",
    "            action_probs = agent.actor_model.predict(np.array([state]))[0]\n",
    "            action = np.random.choice(len(action_probs), p=action_probs)\n",
    "            next_state, reward, done, _ = env.step(action)\n",
    "\n",
    "            states.append(state)\n",
    "            actions.append(action)\n",
    "            rewards.append(reward)\n",
    "            old_probs.append(action_probs)\n",
    "            dones.append(done)\n",
    "\n",
    "            state = next_state\n",
    "\n",
    "        # Compute advantages using rewards and values from critic network\n",
    "        advantages = compute_advantages(rewards, dones, agent.critic_model)\n",
    "\n",
    "        # Perform PPO update using collected data\n",
    "        actor_loss = agent.actor_model.train_on_batch(np.array(states), np.array(actions), sample_weight=advantages)\n",
    "        critic_loss = agent.critic_model.train_on_batch(np.array(states), np.array(rewards))\n",
    "\n",
    "        print(f\"Epoch: {epoch + 1}, Actor Loss: {actor_loss}, Critic Loss: {critic_loss}\")\n",
    "\n",
    "# Example usage:\n",
    "class PPOAgent:\n",
    "    def __init__(self, actor_model, critic_model):\n",
    "        self.actor_model = actor_model\n",
    "        self.critic_model = critic_model\n",
    "\n",
    "env = gym.make('forex-v0')\n",
    "actor_model = build_actor_network(env.observation_space.shape[0], env.action_space.n)\n",
    "critic_model = build_critic_network(env.observation_space.shape[0])\n",
    "agent = PPOAgent(actor_model, critic_model)\n",
    "\n",
    "train_ppo(agent, env, epochs=100, batch_size=32)"
   ]
  },
  {
   "cell_type": "code",
   "execution_count": 14,
   "metadata": {},
   "outputs": [
    {
     "data": {
      "text/plain": [
       "<OrderEnforcing<PassiveEnvChecker<ForexEnv<forex-v0>>>>"
      ]
     },
     "execution_count": 14,
     "metadata": {},
     "output_type": "execute_result"
    }
   ],
   "source": [
    "env\n"
   ]
  }
 ],
 "metadata": {
  "kernelspec": {
   "display_name": "Python 3",
   "language": "python",
   "name": "python3"
  },
  "language_info": {
   "codemirror_mode": {
    "name": "ipython",
    "version": 3
   },
   "file_extension": ".py",
   "mimetype": "text/x-python",
   "name": "python",
   "nbconvert_exporter": "python",
   "pygments_lexer": "ipython3",
   "version": "3.11.4"
  }
 },
 "nbformat": 4,
 "nbformat_minor": 2
}
